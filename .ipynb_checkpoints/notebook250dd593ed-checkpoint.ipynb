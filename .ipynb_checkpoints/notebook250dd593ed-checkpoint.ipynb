{
 "cells": [
  {
   "cell_type": "markdown",
   "metadata": {
    "id": "kfRWtUN1D7rw"
   },
   "source": [
    "# Breast Histopathology Image Classification Study"
   ]
  },
  {
   "cell_type": "markdown",
   "metadata": {
    "id": "5428uZh1D7r9"
   },
   "source": [
    "Life Cycle 1: Understand the problem.\n",
    "\n",
    "The idea behind this project was to train a model,we want to show that machine learning can be used to identify cancerous tumors from benign tumors and show its predictive effectiveness. In order to model this with our data, we will be using supervised learning with a classification algorithm that maps the input to either M (malignant) or B (benign). The classifiers used for our model at are logistic regression, CNN and Forrest Tree. \n",
    "\n",
    "We have labeled each step in our approach and have tried to go into details about what exactly is hapening, the results that we got and their meaning as well as why we took the approach that we did.\n"
   ]
  },
  {
   "cell_type": "markdown",
   "metadata": {
    "id": "Y_o9oBOAD7r-"
   },
   "source": [
    "## 1. Load in Datasets"
   ]
  },
  {
   "cell_type": "markdown",
   "metadata": {
    "id": "sgJ5NgAWD7r_"
   },
   "source": [
    "Life cycle 2: Collect the data\n",
    "We used kaggle.com to download the dataset called \"Breast Histopathology Images\" (link for the data: https://www.kaggle.com/adacslicml/breast-histopathology-images)\n",
    "which contains a set of 'testing' and 'training' data as well as an extra 'valid' set. To access and manipulate this data through the notebook we used several libraries, which include numpy for manipulation,\n",
    "matplotlib to create graphs, glob to find file paths matching or using patterns,and tensorflow for training the model."
   ]
  },
  {
   "cell_type": "code",
   "execution_count": 2,
   "metadata": {
    "_cell_guid": "b1076dfc-b9ad-4769-8c92-a6c4dae69d19",
    "_uuid": "8f2839f25d086af736a60e9eeb907d3b93b6e0e5",
    "id": "jYOR8WxjD7r_"
   },
   "outputs": [],
   "source": [
    "from sklearn.metrics import accuracy_score, confusion_matrix, plot_confusion_matrix\n",
    "import numpy as np\n",
    "import matplotlib.pyplot as plt\n",
    "from PIL import Image\n",
    "import h5py\n",
    "import glob as glob\n",
    "import os\n",
    "import tensorflow as tf\n",
    "\n",
    "%matplotlib inline"
   ]
  },
  {
   "cell_type": "markdown",
   "metadata": {
    "id": "sUG5NgLfD7sA"
   },
   "source": [
    "### Load in Training Set"
   ]
  },
  {
   "cell_type": "markdown",
   "metadata": {
    "id": "4TiDBVL5D7sB"
   },
   "source": [
    "Life Cycle 3: Prepare Data\n",
    "\n",
    "In this section we loaded the names of all files in our training set from the Cancer and NoCancer folders into the varibales labeled `train_cancer` and `train_nocancer` using glob. We then added the images to `X_train` and the labels containing a 0 or 1 to `y_train`. Furthermore, we resized our imgages and added them to an array that will be remain untouch,so that it can later be referenced and used as a sort of control group to test for misclassifications. \n"
   ]
  },
  {
   "cell_type": "code",
   "execution_count": 3,
   "metadata": {
    "id": "v-ngT4WuGPUv"
   },
   "outputs": [],
   "source": [
    "data_dir = 'BreastCancer'"
   ]
  },
  {
   "cell_type": "code",
   "execution_count": 4,
   "metadata": {
    "id": "tRGLLdHbD7sC"
   },
   "outputs": [],
   "source": [
    "# add both cancer and non cancer imgs to X_train\n",
    "train_cancer = glob.glob(data_dir + '/train/1_Cancer/*.png')[:2000]\n",
    "train_nocancer = glob.glob(data_dir + '/train/0_NoCancer/*.png')[:2000]"
   ]
  },
  {
   "cell_type": "code",
   "execution_count": 5,
   "metadata": {
    "id": "nI7Hk8hLD7sC"
   },
   "outputs": [],
   "source": [
    "m = len(train_cancer)  \n",
    "height = 150\n",
    "width = 150\n",
    "\n",
    "X_train_orig = []\n",
    "X_train = np.zeros((2*m, height * width * 3))\n",
    "count = 0\n",
    "\n",
    "\n",
    "for name in train_cancer:\n",
    "    im = Image.open(name)\n",
    "    X_train_orig.append(im)\n",
    "    im_resize = im.resize((height, width))\n",
    "    im_array = np.array(im_resize).reshape(-1) / 255\n",
    "    X_train[count] = im_array\n",
    "    count += 1\n",
    "    \n",
    "for name in train_nocancer:\n",
    "    im = Image.open(name)\n",
    "    X_train_orig.append(im)\n",
    "    im_resize = im.resize((height, width))\n",
    "    im_array = np.array(im_resize).reshape(-1) / 255\n",
    "    X_train[count] = im_array\n",
    "    count += 1"
   ]
  },
  {
   "cell_type": "code",
   "execution_count": 6,
   "metadata": {
    "id": "AJAi5POmD7sD"
   },
   "outputs": [],
   "source": [
    "#add labels to y_train\n",
    "cancer_labels = [1 for i in range(m)]\n",
    "noncancer_labels = [0 for i in range(m)]\n",
    "\n",
    "y_train = np.array(cancer_labels + noncancer_labels)"
   ]
  },
  {
   "cell_type": "markdown",
   "metadata": {
    "id": "LQ-dsaOmD7sE"
   },
   "source": [
    "### Load in Test Set"
   ]
  },
  {
   "cell_type": "markdown",
   "metadata": {
    "id": "X8P8qrArD7sE"
   },
   "source": [
    "For the Testing set we followed an identical approach, where we loaded the names of all of our files from a separate 'test' folder bearing the same names 'Cancer' and 'NoCancer'. We created two arrays,`X_test` and `y_test`, the labels containing a 0 or 1 will be stored in `y_test`. We resized our images, added them to the array `X_test`, and maintained an original copy or set of the images stored in the array `X_test_orig`. This last array remains untouched and is to be used to identify misclassifications later on. "
   ]
  },
  {
   "cell_type": "code",
   "execution_count": 7,
   "metadata": {
    "id": "-7wXwBgZD7sF"
   },
   "outputs": [],
   "source": [
    "# add both cancer and non cancer imgs to X_test\n",
    "test_cancer = glob.glob(data_dir + '/test/0_NoCancer/*.png')[:2000]\n",
    "test_nocancer = glob.glob(data_dir + '/test/1_Cancer/*.png')[:2000]"
   ]
  },
  {
   "cell_type": "code",
   "execution_count": 8,
   "metadata": {
    "id": "R7TiqdbyD7sF"
   },
   "outputs": [],
   "source": [
    "X_test_orig = []\n",
    "X_test = np.zeros((2*m, height * width * 3))\n",
    "count = 0\n",
    "\n",
    "for name in test_cancer:\n",
    "    im = Image.open(name)\n",
    "    X_test_orig.append(im)\n",
    "    im_resize = im.resize((height, width))\n",
    "    im_array = np.array(im_resize).reshape(-1) / 255\n",
    "    X_test[count] = im_array\n",
    "    count += 1\n",
    "    \n",
    "for name in test_nocancer:\n",
    "    im = Image.open(name)\n",
    "    X_test_orig.append(im)\n",
    "    im_resize = im.resize((height, width))\n",
    "    im_array = np.array(im_resize).reshape(-1) / 255\n",
    "    X_test[count] = im_array\n",
    "    count += 1"
   ]
  },
  {
   "cell_type": "code",
   "execution_count": 9,
   "metadata": {
    "id": "sNyrvNKdD7sG"
   },
   "outputs": [],
   "source": [
    "#add labels to Y_test\n",
    "cancer_labels = [1 for i in range(m)]\n",
    "noncancer_labels = [0 for i in range(m)]\n",
    "\n",
    "y_test = np.array(cancer_labels + noncancer_labels)"
   ]
  },
  {
   "cell_type": "markdown",
   "metadata": {
    "id": "RozMpL_CD7sH"
   },
   "source": [
    "### Load Validation Set"
   ]
  },
  {
   "cell_type": "markdown",
   "metadata": {
    "id": "1qjJ0pmqD7sH"
   },
   "source": [
    "For the Validation set we followed similar steps as in the blocks prior, loading the names of all of our files from a separate 'valid' folder bearing the same names 'Cancer' and 'NoCancer'. We created the array `test_images`, containing a 0 or 1 to be stored in `test_labels`. \n",
    "\n",
    "The validation set works in conjuction with the training set to fine tune the parameters. Similar to the quizzes or mini exams that a student might take throughout the semester to asses how well they are learning, understanding and applying the material. consequently this also polishes and fine tunes their knowledge on a subject (ideally). The test set allows us to evaluate the model after all of the training have taken place, similar to a final exam. It helps us accurately meassure the performance of the model and how it generalizes patterns to the new data."
   ]
  },
  {
   "cell_type": "code",
   "execution_count": 10,
   "metadata": {
    "id": "vyQrzhKVD7sI"
   },
   "outputs": [],
   "source": [
    "# add both cancer and non cancer imgs to test_images\n",
    "valid_cancer = glob.glob(data_dir + '/valid/0_NoCancer/*.png')[:1000]\n",
    "valid_nocancer = glob.glob(data_dir + '/valid/1_Cancer/*.png')[:1000]"
   ]
  },
  {
   "cell_type": "code",
   "execution_count": 11,
   "metadata": {
    "id": "xzZ_OXk6D7sI"
   },
   "outputs": [],
   "source": [
    "test_images = []\n",
    "\n",
    "for name in valid_cancer:\n",
    "    im = Image.open(name)\n",
    "    test_images.append(im)\n",
    "#     im_resize = im.resize((height, width))\n",
    "#     im_array = np.array(im_resize).reshape(-1) / 255\n",
    "#     test_images[count] = im_array\n",
    "#     count += 1\n",
    "    \n",
    "for name in valid_nocancer:\n",
    "    im = Image.open(name)\n",
    "    test_images.append(im)"
   ]
  },
  {
   "cell_type": "code",
   "execution_count": 12,
   "metadata": {
    "id": "4-eqTQuTD7sJ"
   },
   "outputs": [],
   "source": [
    "#add labels to Test_labels\n",
    "valid_cancerlabels = [1 for i in range(m)]\n",
    "valid_nocancerlabels = [0 for i in range(m)]\n",
    "\n",
    "test_labels = np.array(valid_cancerlabels + valid_nocancerlabels)\n",
    "\n",
    "test_labels = np.asarray(test_labels)"
   ]
  },
  {
   "cell_type": "markdown",
   "metadata": {
    "id": "UXm51vdAD7sJ"
   },
   "source": [
    "# 2. Random Forest Classifier"
   ]
  },
  {
   "cell_type": "markdown",
   "metadata": {
    "id": "GNFUINqND7sK"
   },
   "source": [
    "Life Cycle 4: Train Model\n",
    "    \n",
    "In this section we used a series of training model Random Forest Classifier, Logistic Regression, and Keras CNN Model.\n",
    "\n",
    "The Random Forest Classifier (out of the many one) is useful for tasks that involved regression and classification. It works by iterating through a dataset and with each iteration it split/groups similar data points together in what is called a decision tree. This process is repeated to eventually build the namesake forrest. Each algorithm/tree comes up with a set of criteria to group or identify the data it encounters. After the forrest is built, the different approaches taken by each of the trees are combined and used to generate more accurate and stable decisions. \n",
    "\n",
    "Logistic Regression is a useful model for classification problems where a binary, either or answer is expected. It works by using statistics to predict the probability of an outcome based on the variable interactions. This parallels with our problem statement because we would like to classify malignant vs beningn tumors from a given dataset. \n",
    "\n",
    "Finally we have the Keras Convolutional Neural Network. Keras is a deep learning library that we used to build a CNN. This model is useful for classifying images that are not fixed, meaning that the the subject being identified can appear in any position in the image. \n",
    "\n"
   ]
  },
  {
   "cell_type": "markdown",
   "metadata": {
    "id": "kQxd5AqcD7sK"
   },
   "source": [
    "## Train the Model"
   ]
  },
  {
   "cell_type": "markdown",
   "metadata": {
    "id": "65rzjjAoD7sL"
   },
   "source": [
    "We started this session by importing the random forest classifier algorithm and making a referenceable object. We passed the training set as argument\n",
    "and ______.\n",
    "\n",
    "We test the accuracy rate of our training model for which we get 100%, this implies that we probably have an overfitting problem with our model. "
   ]
  },
  {
   "cell_type": "code",
   "execution_count": 13,
   "metadata": {
    "id": "Eij5ja79D7sL"
   },
   "outputs": [],
   "source": [
    "from sklearn.ensemble import RandomForestClassifier\n",
    "rf = RandomForestClassifier()"
   ]
  },
  {
   "cell_type": "code",
   "execution_count": 14,
   "metadata": {
    "colab": {
     "base_uri": "https://localhost:8080/"
    },
    "id": "5ewb60G9D7sL",
    "outputId": "1c822357-aa66-4b1a-b581-6ddc11661505"
   },
   "outputs": [
    {
     "data": {
      "text/plain": [
       "RandomForestClassifier(bootstrap=True, ccp_alpha=0.0, class_weight=None,\n",
       "                       criterion='gini', max_depth=None, max_features='auto',\n",
       "                       max_leaf_nodes=None, max_samples=None,\n",
       "                       min_impurity_decrease=0.0, min_impurity_split=None,\n",
       "                       min_samples_leaf=1, min_samples_split=2,\n",
       "                       min_weight_fraction_leaf=0.0, n_estimators=100,\n",
       "                       n_jobs=None, oob_score=False, random_state=None,\n",
       "                       verbose=0, warm_start=False)"
      ]
     },
     "execution_count": 14,
     "metadata": {
      "tags": []
     },
     "output_type": "execute_result"
    }
   ],
   "source": [
    "rf.fit(X_train, y_train)"
   ]
  },
  {
   "cell_type": "code",
   "execution_count": 15,
   "metadata": {
    "id": "6sjFgxJHD7sM"
   },
   "outputs": [],
   "source": [
    "y_train_pred =  rf.predict(X_train)"
   ]
  },
  {
   "cell_type": "markdown",
   "metadata": {
    "id": "WpkLgX-ND7sM"
   },
   "source": [
    "### Training Accuracy"
   ]
  },
  {
   "cell_type": "code",
   "execution_count": 16,
   "metadata": {
    "colab": {
     "base_uri": "https://localhost:8080/"
    },
    "id": "w9QFRWtND7sN",
    "outputId": "537f1e62-47a5-4af1-9af3-ecdea6360bd6"
   },
   "outputs": [
    {
     "data": {
      "text/plain": [
       "1.0"
      ]
     },
     "execution_count": 16,
     "metadata": {
      "tags": []
     },
     "output_type": "execute_result"
    }
   ],
   "source": [
    "np.mean(y_train == y_train_pred)"
   ]
  },
  {
   "cell_type": "markdown",
   "metadata": {
    "id": "TMJPN-ABD7sN"
   },
   "source": [
    "## Test the Model"
   ]
  },
  {
   "cell_type": "code",
   "execution_count": 17,
   "metadata": {
    "id": "w_4IzoMzD7sN"
   },
   "outputs": [],
   "source": [
    "y_test_pred = rf.predict(X_test)"
   ]
  },
  {
   "cell_type": "markdown",
   "metadata": {
    "id": "BRw1MD0zD7sO"
   },
   "source": [
    "### Testing Accuracy"
   ]
  },
  {
   "cell_type": "code",
   "execution_count": 18,
   "metadata": {
    "colab": {
     "base_uri": "https://localhost:8080/"
    },
    "id": "-qcyv09KD7sO",
    "outputId": "19b9eabf-b0bf-43ae-ad20-b3048ffd9de4"
   },
   "outputs": [
    {
     "data": {
      "text/plain": [
       "0.154"
      ]
     },
     "execution_count": 18,
     "metadata": {
      "tags": []
     },
     "output_type": "execute_result"
    }
   ],
   "source": [
    "np.mean(y_test_pred == y_test)"
   ]
  },
  {
   "cell_type": "code",
   "execution_count": 19,
   "metadata": {
    "colab": {
     "base_uri": "https://localhost:8080/",
     "height": 296
    },
    "id": "m3zwmAaOD7sO",
    "outputId": "73948a3c-1dad-4697-8666-9fe6540deb15"
   },
   "outputs": [
    {
     "data": {
      "text/plain": [
       "<sklearn.metrics._plot.confusion_matrix.ConfusionMatrixDisplay at 0x7efef7259bd0>"
      ]
     },
     "execution_count": 19,
     "metadata": {
      "tags": []
     },
     "output_type": "execute_result"
    },
    {
     "data": {
      "image/png": "[encoded data removed]",
      "text/plain": [
       "<Figure size 432x288 with 2 Axes>"
      ]
     },
     "metadata": {
      "needs_background": "light",
      "tags": []
     },
     "output_type": "display_data"
    }
   ],
   "source": [
    "plot_confusion_matrix(rf, X_test, y_test, values_format = 'd')"
   ]
  },
  {
   "cell_type": "markdown",
   "metadata": {
    "id": "xplDfsplD7sP"
   },
   "source": [
    "# Conclusion"
   ]
  },
  {
   "cell_type": "markdown",
   "metadata": {
    "id": "UbH4Udg8D7sP"
   },
   "source": [
    "For the Random Forrest Classifier we had an overfitting problem with our model since it adapted incredibly well to our training data but could not generalize that knowledge when used against the testing set. This is indicated by the training accuracy we recieved of a 100%, this result tells us right away tell us that we have a problem. This could be because we do not have enough data or need to decrease the complexity of our model. This was confirmed when ran the testing model and got a 35.65%, which is a terribly underwhelming performance. If we focus on our confusion matrix, a graph that describes the outcome/peformance of our classification model. \n",
    "\n",
    "The graph is divided into four sections. Starting with our upper right corner, the results here represent a true positive. The upper left hand provides a false positive meaning that the model misclassified something as a positive result when  in fact it was negative. The bottom left shows the opposite of this phenomenom, a false negative, which misindentified a positive result as negative. Finally, the bottom right is a true negative. In the final performance evaluation, out of a pool of 4,000 our model accurately diagnosed 1075 of those cases. For 1649 of those unfortunate souls, they could have gotten chemo and lived but our model told them that they were fine and dandy when in reality their cells had mutated into termites. Conversely for 925 we diagnosed them with cancer and made them undergo chemo and sell all of their belongings for a disease thye did not have. Finally, 351 is the number of people that the model accurately predicted as healthy human beings."
   ]
  },
  {
   "cell_type": "markdown",
   "metadata": {
    "id": "CqhhZ7h1D7sQ"
   },
   "source": [
    "# 3. Logistic Regression"
   ]
  },
  {
   "cell_type": "code",
   "execution_count": 20,
   "metadata": {
    "id": "qj4WG7-QD7sR"
   },
   "outputs": [],
   "source": [
    "from sklearn.linear_model import LogisticRegression"
   ]
  },
  {
   "cell_type": "markdown",
   "metadata": {
    "id": "YCp6flXAD7sR"
   },
   "source": []
  },
  {
   "cell_type": "markdown",
   "metadata": {
    "id": "tUqcWnVbD7sR"
   },
   "source": [
    "## Train the Model"
   ]
  },
  {
   "cell_type": "code",
   "execution_count": 21,
   "metadata": {
    "id": "mMW4cEdpD7sS"
   },
   "outputs": [],
   "source": [
    "lr = LogisticRegression(max_iter = 10000)"
   ]
  },
  {
   "cell_type": "code",
   "execution_count": 22,
   "metadata": {
    "colab": {
     "base_uri": "https://localhost:8080/"
    },
    "id": "VrMAGa-5D7sS",
    "outputId": "3f0935f8-2837-48c3-bc52-27ea315d5217"
   },
   "outputs": [
    {
     "data": {
      "text/plain": [
       "LogisticRegression(C=1.0, class_weight=None, dual=False, fit_intercept=True,\n",
       "                   intercept_scaling=1, l1_ratio=None, max_iter=10000,\n",
       "                   multi_class='auto', n_jobs=None, penalty='l2',\n",
       "                   random_state=None, solver='lbfgs', tol=0.0001, verbose=0,\n",
       "                   warm_start=False)"
      ]
     },
     "execution_count": 22,
     "metadata": {
      "tags": []
     },
     "output_type": "execute_result"
    }
   ],
   "source": [
    "lr.fit(X_train, y_train)"
   ]
  },
  {
   "cell_type": "code",
   "execution_count": 23,
   "metadata": {
    "id": "ErGMJZX0D7sS"
   },
   "outputs": [],
   "source": [
    "y_train_pred =  lr.predict(X_train)"
   ]
  },
  {
   "cell_type": "markdown",
   "metadata": {
    "id": "UxxaIXW8D7sT"
   },
   "source": [
    "### Training Accuracy"
   ]
  },
  {
   "cell_type": "code",
   "execution_count": 24,
   "metadata": {
    "colab": {
     "base_uri": "https://localhost:8080/"
    },
    "id": "6gVoa9vSD7sT",
    "outputId": "b4ed27e4-f560-47bb-d720-b72626da174b"
   },
   "outputs": [
    {
     "data": {
      "text/plain": [
       "0.99975"
      ]
     },
     "execution_count": 24,
     "metadata": {
      "tags": []
     },
     "output_type": "execute_result"
    }
   ],
   "source": [
    "np.mean(y_train == y_train_pred)"
   ]
  },
  {
   "cell_type": "markdown",
   "metadata": {
    "id": "GLCZec9gD7sU"
   },
   "source": [
    "## Test the Model"
   ]
  },
  {
   "cell_type": "code",
   "execution_count": 25,
   "metadata": {
    "colab": {
     "base_uri": "https://localhost:8080/",
     "height": 296
    },
    "id": "HW9KPd1wD7sU",
    "outputId": "c71d3905-7d74-46ce-d91c-d1f02dd2085d"
   },
   "outputs": [
    {
     "data": {
      "text/plain": [
       "<sklearn.metrics._plot.confusion_matrix.ConfusionMatrixDisplay at 0x7efef7228350>"
      ]
     },
     "execution_count": 25,
     "metadata": {
      "tags": []
     },
     "output_type": "execute_result"
    },
    {
     "data": {
      "image/png": "[encoded data removed]",
      "text/plain": [
       "<Figure size 432x288 with 2 Axes>"
      ]
     },
     "metadata": {
      "needs_background": "light",
      "tags": []
     },
     "output_type": "display_data"
    }
   ],
   "source": [
    "plot_confusion_matrix(lr, X_test, y_test, values_format = 'd')"
   ]
  },
  {
   "cell_type": "code",
   "execution_count": 26,
   "metadata": {
    "id": "LNKr6jJgD7sV"
   },
   "outputs": [],
   "source": [
    "y_pred = lr.predict(X_test)"
   ]
  },
  {
   "cell_type": "markdown",
   "metadata": {
    "id": "8Of-8HXnD7sV"
   },
   "source": [
    "### Testing Accuracy"
   ]
  },
  {
   "cell_type": "code",
   "execution_count": 27,
   "metadata": {
    "colab": {
     "base_uri": "https://localhost:8080/"
    },
    "id": "aYdX_HqzD7sV",
    "outputId": "e1ecd907-7619-4bdd-cdf4-74aa38c2178e"
   },
   "outputs": [
    {
     "data": {
      "text/plain": [
       "0.24375"
      ]
     },
     "execution_count": 27,
     "metadata": {
      "tags": []
     },
     "output_type": "execute_result"
    }
   ],
   "source": [
    "np.mean(y_pred == y_test)"
   ]
  },
  {
   "cell_type": "code",
   "execution_count": 28,
   "metadata": {
    "colab": {
     "base_uri": "https://localhost:8080/",
     "height": 0
    },
    "id": "T0I118KJD7sW",
    "outputId": "211211d2-01c1-4931-e323-79d4cf66f88b"
   },
   "outputs": [
    {
     "data": {
      "text/plain": [
       "<sklearn.metrics._plot.confusion_matrix.ConfusionMatrixDisplay at 0x7efef6cb7910>"
      ]
     },
     "execution_count": 28,
     "metadata": {
      "tags": []
     },
     "output_type": "execute_result"
    },
    {
     "data": {
      "image/png": "[encoded data removed]",
      "text/plain": [
       "<Figure size 432x288 with 2 Axes>"
      ]
     },
     "metadata": {
      "needs_background": "light",
      "tags": []
     },
     "output_type": "display_data"
    }
   ],
   "source": [
    "plot_confusion_matrix(rf, X_test, y_test, values_format = 'd')"
   ]
  },
  {
   "cell_type": "markdown",
   "metadata": {
    "id": "K19jj0ksD7sW"
   },
   "source": [
    "## Conclusion"
   ]
  },
  {
   "cell_type": "markdown",
   "metadata": {
    "id": "kbtQM3fwD7sW"
   },
   "source": [
    "The Logistic Regression is the most common approach in the preeliminary phase of cancer diagnosis since it excels in binary decisions like classifications problems. For this classifier we imported the logistic regression out library and created a referenceable object that would allow us to use and manipulate the model. We passed in the training data prepared at the beginning.To test the peformance of the knowledge acquire in training we similarly loaded the testing data and asked it to create another confusion matrix plot for visualization. \n",
    "For the training section we obtained an accuracy rate of 99%. This is very similar to the results we obtained for the forrest classifier, we suspect that the problem here is just the fact that we had to downsize the data in order for our computers to be able to process it. So we reduced the data down to about 4,000 (each the training and the testing got a set of 2000), if we were to use the entire data pool it might fix the problem that our model is having with overfitting.\n",
    "For the peformance evaluation our accuracy was even lower,a 24.37% accuracy rate. The confusion matrix revealed that our model struggled to accurately classify the images with the test data. In a pool of 4,000 our model was only able to accurately diagnosed 370 of those cases, which is considerably less than in the Forrest Tree classifier something we were not expecting. It was our understanding that logistic regression was actually more accurate than the Forrest tree when it came to data that could be certaintly divided into two groups (binary). For our logistic regression 1,630 Cases were False positives, 1,395 were False negative,and only 605 were true negatives and 370 true positives. \n",
    "We are a bit puzzled by this result, \n",
    "Although we did not initially expect this result, it made sense that the Forrest Tree classifier would handle overfitting better since it is a series of decision trees coming together as to form a final decision. It is better equipt to handle variance in datasets.\n",
    "\n",
    "The biggest challenge with theLogistic Regression classifier is how long it took to run the data even with a reduced sample size and minimum numbers of iterations. Each time a problem/interruption occurred it would reset the progress and have to start from 0 again. This also contradicted our initial belief that the LR would be the fastest classifier out the three.\n",
    "\n"
   ]
  },
  {
   "cell_type": "markdown",
   "metadata": {
    "id": "z1suc44KD7sX"
   },
   "source": [
    "# 4. Keras NN Model"
   ]
  },
  {
   "cell_type": "code",
   "execution_count": 29,
   "metadata": {
    "id": "wy0cAK2nD7sX"
   },
   "outputs": [],
   "source": [
    "import tensorflow as tf\n",
    "\n",
    "from tensorflow.keras import datasets, layers, models\n",
    "import matplotlib.pyplot as plt"
   ]
  },
  {
   "cell_type": "markdown",
   "metadata": {
    "id": "VTuGMx9TD7sX"
   },
   "source": [
    "## Train the Model"
   ]
  },
  {
   "cell_type": "code",
   "execution_count": 30,
   "metadata": {
    "id": "gtr7ZeasD7sY"
   },
   "outputs": [],
   "source": [
    "model = models.Sequential()\n",
    "model.add(layers.Conv2D(150, (3, 3), activation='relu', input_shape=(150, 150, 3)))\n",
    "model.add(layers.MaxPooling2D((2, 2)))\n",
    "model.add(layers.Conv2D(300, (3, 3), activation='relu'))\n",
    "model.add(layers.MaxPooling2D((2, 2)))\n",
    "model.add(layers.Conv2D(300, (3, 3), activation='relu'))\n"
   ]
  },
  {
   "cell_type": "markdown",
   "metadata": {
    "id": "k9Nn6s4pD7sY"
   },
   "source": [
    "### Training Accuracy\n"
   ]
  },
  {
   "cell_type": "code",
   "execution_count": 31,
   "metadata": {
    "id": "85de5KqLD7sY"
   },
   "outputs": [],
   "source": [
    "model.compile(optimizer = 'adam',\n",
    "             loss = tf.keras.losses.SparseCategoricalCrossentropy(),\n",
    "             metrics = ['accuracy'])"
   ]
  },
  {
   "cell_type": "markdown",
   "metadata": {
    "id": "xnYbIQJpD7sZ"
   },
   "source": [
    "## Test the Model\n"
   ]
  },
  {
   "cell_type": "code",
   "execution_count": 32,
   "metadata": {
    "id": "52U5ECcBD7sZ"
   },
   "outputs": [],
   "source": [
    "model.add(layers.Flatten())\n",
    "model.add(layers.Dense(300, activation='relu'))\n",
    "model.add(layers.Dense(10))\n"
   ]
  },
  {
   "cell_type": "markdown",
   "metadata": {
    "id": "2Zb-g6WPD7sZ"
   },
   "source": [
    "### Testing Accuracy"
   ]
  },
  {
   "cell_type": "code",
   "execution_count": 33,
   "metadata": {
    "colab": {
     "base_uri": "https://localhost:8080/",
     "height": 392
    },
    "id": "L9bkKrYRD7sZ",
    "outputId": "b9c6d411-954b-420e-9150-e2cc8f8c599c"
   },
   "outputs": [
    {
     "ename": "ValueError",
     "evalue": "ignored",
     "output_type": "error",
     "traceback": [
      "\u001b[0;31m---------------------------------------------------------------------------\u001b[0m",
      "\u001b[0;31mValueError\u001b[0m                                Traceback (most recent call last)",
      "\u001b[0;32m<ipython-input-33-b824d7bb582d>\u001b[0m in \u001b[0;36m<module>\u001b[0;34m()\u001b[0m\n\u001b[1;32m      4\u001b[0m \u001b[0;34m\u001b[0m\u001b[0m\n\u001b[1;32m      5\u001b[0m history = model.fit(X_train_orig, y_train, epochs=10, \n\u001b[0;32m----> 6\u001b[0;31m                     validation_data=(test_images, test_labels))\n\u001b[0m",
      "\u001b[0;32m/usr/local/lib/python3.7/dist-packages/tensorflow/python/keras/engine/training.py\u001b[0m in \u001b[0;36mfit\u001b[0;34m(self, x, y, batch_size, epochs, verbose, callbacks, validation_split, validation_data, shuffle, class_weight, sample_weight, initial_epoch, steps_per_epoch, validation_steps, validation_batch_size, validation_freq, max_queue_size, workers, use_multiprocessing)\u001b[0m\n\u001b[1;32m   1062\u001b[0m           \u001b[0muse_multiprocessing\u001b[0m\u001b[0;34m=\u001b[0m\u001b[0muse_multiprocessing\u001b[0m\u001b[0;34m,\u001b[0m\u001b[0;34m\u001b[0m\u001b[0;34m\u001b[0m\u001b[0m\n\u001b[1;32m   1063\u001b[0m           \u001b[0mmodel\u001b[0m\u001b[0;34m=\u001b[0m\u001b[0mself\u001b[0m\u001b[0;34m,\u001b[0m\u001b[0;34m\u001b[0m\u001b[0;34m\u001b[0m\u001b[0m\n\u001b[0;32m-> 1064\u001b[0;31m           steps_per_execution=self._steps_per_execution)\n\u001b[0m\u001b[1;32m   1065\u001b[0m \u001b[0;34m\u001b[0m\u001b[0m\n\u001b[1;32m   1066\u001b[0m       \u001b[0;31m# Container that configures and calls `tf.keras.Callback`s.\u001b[0m\u001b[0;34m\u001b[0m\u001b[0;34m\u001b[0m\u001b[0;34m\u001b[0m\u001b[0m\n",
      "\u001b[0;32m/usr/local/lib/python3.7/dist-packages/tensorflow/python/keras/engine/data_adapter.py\u001b[0m in \u001b[0;36m__init__\u001b[0;34m(self, x, y, sample_weight, batch_size, steps_per_epoch, initial_epoch, epochs, shuffle, class_weight, max_queue_size, workers, use_multiprocessing, model, steps_per_execution)\u001b[0m\n\u001b[1;32m   1097\u001b[0m       \u001b[0mself\u001b[0m\u001b[0;34m.\u001b[0m\u001b[0m_steps_per_execution_value\u001b[0m \u001b[0;34m=\u001b[0m \u001b[0msteps_per_execution\u001b[0m\u001b[0;34m.\u001b[0m\u001b[0mnumpy\u001b[0m\u001b[0;34m(\u001b[0m\u001b[0;34m)\u001b[0m\u001b[0;34m.\u001b[0m\u001b[0mitem\u001b[0m\u001b[0;34m(\u001b[0m\u001b[0;34m)\u001b[0m\u001b[0;34m\u001b[0m\u001b[0;34m\u001b[0m\u001b[0m\n\u001b[1;32m   1098\u001b[0m \u001b[0;34m\u001b[0m\u001b[0m\n\u001b[0;32m-> 1099\u001b[0;31m     \u001b[0madapter_cls\u001b[0m \u001b[0;34m=\u001b[0m \u001b[0mselect_data_adapter\u001b[0m\u001b[0;34m(\u001b[0m\u001b[0mx\u001b[0m\u001b[0;34m,\u001b[0m \u001b[0my\u001b[0m\u001b[0;34m)\u001b[0m\u001b[0;34m\u001b[0m\u001b[0;34m\u001b[0m\u001b[0m\n\u001b[0m\u001b[1;32m   1100\u001b[0m     self._adapter = adapter_cls(\n\u001b[1;32m   1101\u001b[0m         \u001b[0mx\u001b[0m\u001b[0;34m,\u001b[0m\u001b[0;34m\u001b[0m\u001b[0;34m\u001b[0m\u001b[0m\n",
      "\u001b[0;32m/usr/local/lib/python3.7/dist-packages/tensorflow/python/keras/engine/data_adapter.py\u001b[0m in \u001b[0;36mselect_data_adapter\u001b[0;34m(x, y)\u001b[0m\n\u001b[1;32m    962\u001b[0m         \u001b[0;34m\"Failed to find data adapter that can handle \"\u001b[0m\u001b[0;34m\u001b[0m\u001b[0;34m\u001b[0m\u001b[0m\n\u001b[1;32m    963\u001b[0m         \"input: {}, {}\".format(\n\u001b[0;32m--> 964\u001b[0;31m             _type_name(x), _type_name(y)))\n\u001b[0m\u001b[1;32m    965\u001b[0m   \u001b[0;32melif\u001b[0m \u001b[0mlen\u001b[0m\u001b[0;34m(\u001b[0m\u001b[0madapter_cls\u001b[0m\u001b[0;34m)\u001b[0m \u001b[0;34m>\u001b[0m \u001b[0;36m1\u001b[0m\u001b[0;34m:\u001b[0m\u001b[0;34m\u001b[0m\u001b[0;34m\u001b[0m\u001b[0m\n\u001b[1;32m    966\u001b[0m     raise RuntimeError(\n",
      "\u001b[0;31mValueError\u001b[0m: Failed to find data adapter that can handle input: (<class 'list'> containing values of types {\"<class 'PIL.PngImagePlugin.PngImageFile'>\"}), <class 'numpy.ndarray'>"
     ]
    }
   ],
   "source": [
    "model.compile(optimizer='adam',\n",
    "              loss=tf.keras.losses.SparseCategoricalCrossentropy(from_logits=True),\n",
    "              metrics=['accuracy'])\n",
    "\n",
    "history = model.fit(X_train_orig, y_train, epochs=10, \n",
    "                    validation_data=(test_images, test_labels))\n"
   ]
  },
  {
   "cell_type": "markdown",
   "metadata": {
    "id": "8q7hdoZ3D7sa"
   },
   "source": [
    "## Conclusion\n",
    "We dont do anything in the first four block of code except set up the model and it is not until the fitch that we run it. This one we spent an entire day trying to run but for some reason it couldnt, so any of the four precedinng blocks could be causing the problem. In the future we would like to come back to this model and understand where the problem lies and what is preventing it from working. "
   ]
  },
  {
   "cell_type": "markdown",
   "metadata": {
    "id": "2BD6d2IgD7sa"
   },
   "source": [
    "# \"The reality is not ideal.\" ~ Dr. Ding\n"
   ]
  },
  {
   "cell_type": "markdown",
   "metadata": {
    "id": "busSFrXxD7sa"
   },
   "source": [
    "We ended up changing our dataset a numerous amount of times, each for different reasons. When we finally thought we had found one, we had to change it again because it was part of a competition and did not allow for collaboration on the platform we were using. We had great difficulty loading the data for some reason,and it would conastantly crash the notebook. We suscpect that we lacked the the cpu power to run the dataset because although the cpu was running at full capacity, it was not getting anywhere and we saw this even with our current dataset.\n",
    "\n",
    "In the future we would like to return to this problem using the entire dataset and decipher where we are going wrong with the CNN since it is the one we are most fascinated by. We would like to see how its final evaluation compares to that of the Forets tree and Linear regression. We would like to think that the neural network would yield more accurate results being the most powerful of the three but it also demands a bigger dataset in order to avoid overfitting. "
   ]
  }
 ],
 "metadata": {
  "colab": {
   "include_colab_link": true,
   "name": "Copy of notebook250dd593ed(1).ipynb",
   "provenance": [],
   "toc_visible": true
  },
  "kernelspec": {
   "display_name": "Python 3",
   "language": "python",
   "name": "python3"
  },
  "language_info": {
   "codemirror_mode": {
    "name": "ipython",
    "version": 3
   },
   "file_extension": ".py",
   "mimetype": "text/x-python",
   "name": "python",
   "nbconvert_exporter": "python",
   "pygments_lexer": "ipython3",
   "version": "3.8.5"
  }
 },
 "nbformat": 4,
 "nbformat_minor": 1
}
